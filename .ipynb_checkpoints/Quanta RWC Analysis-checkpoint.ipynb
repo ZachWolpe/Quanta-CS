{
 "cells": [
  {
   "cell_type": "markdown",
   "metadata": {},
   "source": [
    "# Quanta.AI\n",
    "## RWC Statistical Analysis\n",
    "\n",
    "Preamble\n",
    "\n",
    "## Weather Data\n",
    "\n",
    "Using OpenWeatherMap to extract Weather Data"
   ]
  },
  {
   "cell_type": "code",
   "execution_count": 16,
   "metadata": {},
   "outputs": [],
   "source": [
    "import numpy as np\n",
    "import pandas as pd\n",
    "import requests, json\n",
    "import pyowm\n",
    "import matplotlib.pyplot as plt\n",
    "\n",
    "plt.style.use(\"seaborn-darkgrid\")"
   ]
  },
  {
   "cell_type": "code",
   "execution_count": 36,
   "metadata": {},
   "outputs": [
    {
     "name": "stdout",
     "output_type": "stream",
     "text": [
      "{'coord': {'lon': 28.05, 'lat': -26.21}, 'weather': [{'id': 804, 'main': 'Clouds', 'description': 'overcast clouds', 'icon': '04d'}], 'base': 'stations', 'main': {'temp': 18.19, 'pressure': 1019, 'humidity': 77, 'temp_min': 16.67, 'temp_max': 20}, 'visibility': 10000, 'wind': {'speed': 3.1, 'deg': 100}, 'clouds': {'all': 90}, 'dt': 1575900095, 'sys': {'type': 1, 'id': 1917, 'country': 'ZA', 'sunrise': 1575860895, 'sunset': 1575910315}, 'timezone': 7200, 'id': 993800, 'name': 'Johannesburg', 'cod': 200}\n"
     ]
    }
   ],
   "source": [
    "# connect to API\n",
    "owm = pyowm.OWM('f35708649203e754ee17c53629bc0baf')\n",
    "\n",
    "# get city\n",
    "city = 'Johannesburg' # 'Cape Town' # input(\"City Name:\")\n",
    "\n",
    "# API endpoint\n",
    "url = 'https://openweathermap.org/data/2.5/weather?q={}&appid=b6907d289e10d714a6e88b30761fae22'.format(city)\n",
    "\n",
    "# request\n",
    "res = requests.get(url)\n",
    "\n",
    "data = res.json() \n",
    "\n",
    "print(data)"
   ]
  },
  {
   "cell_type": "markdown",
   "metadata": {},
   "source": [
    "## Historical Data"
   ]
  },
  {
   "cell_type": "code",
   "execution_count": 50,
   "metadata": {},
   "outputs": [],
   "source": [
    "from datetime import datetime\n",
    "import time\n",
    "\n",
    "# get time in seconds\n",
    "\n",
    "# end time \n",
    "end = datetime(2019, 12, 2)\n",
    "end = time.mktime(end.timetuple())"
   ]
  },
  {
   "cell_type": "code",
   "execution_count": 51,
   "metadata": {},
   "outputs": [
    {
     "data": {
      "text/plain": [
       "1575237600.0"
      ]
     },
     "execution_count": 51,
     "metadata": {},
     "output_type": "execute_result"
    }
   ],
   "source": []
  },
  {
   "cell_type": "code",
   "execution_count": null,
   "metadata": {},
   "outputs": [],
   "source": []
  },
  {
   "cell_type": "code",
   "execution_count": null,
   "metadata": {},
   "outputs": [],
   "source": []
  },
  {
   "cell_type": "code",
   "execution_count": null,
   "metadata": {},
   "outputs": [],
   "source": []
  }
 ],
 "metadata": {
  "kernelspec": {
   "display_name": "Python 3",
   "language": "python",
   "name": "python3"
  },
  "language_info": {
   "codemirror_mode": {
    "name": "ipython",
    "version": 3
   },
   "file_extension": ".py",
   "mimetype": "text/x-python",
   "name": "python",
   "nbconvert_exporter": "python",
   "pygments_lexer": "ipython3",
   "version": "3.7.4"
  }
 },
 "nbformat": 4,
 "nbformat_minor": 2
}
