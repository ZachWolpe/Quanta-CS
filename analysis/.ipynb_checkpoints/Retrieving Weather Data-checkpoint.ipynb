{
 "cells": [
  {
   "cell_type": "markdown",
   "metadata": {},
   "source": [
    "# Retrieving Weather Data\n",
    "\n",
    "Extracting weather data"
   ]
  },
  {
   "cell_type": "code",
   "execution_count": 1,
   "metadata": {},
   "outputs": [],
   "source": [
    "import numpy as np\n",
    "import pandas as pd\n",
    "import requests, json\n",
    "\n",
    "import matplotlib.pyplot as plt\n",
    "\n",
    "plt.style.use(\"seaborn-darkgrid\")"
   ]
  },
  {
   "cell_type": "markdown",
   "metadata": {},
   "source": [
    "# Live Requests\n",
    "\n",
    "Using OWM: Own Weather Map\n",
    "\n",
    "https://openweathermap.org/api"
   ]
  },
  {
   "cell_type": "code",
   "execution_count": 78,
   "metadata": {},
   "outputs": [
    {
     "name": "stdout",
     "output_type": "stream",
     "text": [
      "{'coord': {'lon': 28.05, 'lat': -26.21}, 'weather': [{'id': 803, 'main': 'Clouds', 'description': 'broken clouds', 'icon': '04d'}], 'base': 'stations', 'main': {'temp': 16.83, 'pressure': 1016, 'humidity': 82, 'temp_min': 16.11, 'temp_max': 18.33}, 'visibility': 10000, 'wind': {'speed': 4.1, 'deg': 60}, 'clouds': {'all': 75}, 'dt': 1575909523, 'sys': {'type': 1, 'id': 1935, 'country': 'ZA', 'sunrise': 1575860895, 'sunset': 1575910315}, 'timezone': 7200, 'id': 993800, 'name': 'Johannesburg', 'cod': 200}\n"
     ]
    }
   ],
   "source": [
    "import pyowm\n",
    "\n",
    "# connect to API\n",
    "owm = pyowm.OWM('f35708649203e754ee17c53629bc0baf')\n",
    "\n",
    "# get city\n",
    "city = 'Johannesburg' # 'Cape Town' # input(\"City Name:\")\n",
    "\n",
    "# API endpoint\n",
    "url = 'https://openweathermap.org/data/2.5/weather?q={}&appid=b6907d289e10d714a6e88b30761fae22'.format(city)\n",
    "\n",
    "# request\n",
    "res = requests.get(url)\n",
    "\n",
    "data = res.json() \n",
    "\n",
    "print(data)"
   ]
  },
  {
   "cell_type": "markdown",
   "metadata": {},
   "source": [
    "# Unix Time\n",
    "\n",
    "Convert date time to unix time.\n",
    "Often required for requests."
   ]
  },
  {
   "cell_type": "code",
   "execution_count": 81,
   "metadata": {},
   "outputs": [
    {
     "name": "stdout",
     "output_type": "stream",
     "text": [
      "Time Period in Unix time:\n",
      "2019-08-20 00:00:00\n",
      "2019-12-02 00:00:00\n"
     ]
    }
   ],
   "source": [
    "from datetime import datetime\n",
    "import time\n",
    "\n",
    "# get time in seconds\n",
    "# start time \n",
    "start = datetime(2019, 8, 20)\n",
    "# start = time.mktime(start.timetuple())\n",
    "\n",
    "# end time \n",
    "end = datetime(2019, 12, 2)\n",
    "# end = time.mktime(end.timetuple())\n",
    "\n",
    "print(\"Time Period in Unix time:\")\n",
    "print(start)\n",
    "print(end)"
   ]
  },
  {
   "cell_type": "markdown",
   "metadata": {},
   "source": [
    "# Historical Weather Data\n",
    "\n",
    "Download historical weather data for a given period + location"
   ]
  },
  {
   "cell_type": "code",
   "execution_count": 5,
   "metadata": {},
   "outputs": [
    {
     "name": "stdout",
     "output_type": "stream",
     "text": [
      "\n",
      "\n",
      "Retrieving weather data for johannesburg\n",
      "\n",
      "\n",
      "Currently retrieving data for johannesburg: from 2019-08-20 to 2019-08-31\n",
      "Time elapsed (hh:mm:ss.ms) 0:00:01.278557\n",
      "Currently retrieving data for johannesburg: from 2019-09-01 to 2019-09-30\n",
      "Time elapsed (hh:mm:ss.ms) 0:00:03.003440\n",
      "Currently retrieving data for johannesburg: from 2019-10-01 to 2019-10-31\n",
      "Time elapsed (hh:mm:ss.ms) 0:00:04.922990\n",
      "Currently retrieving data for johannesburg: from 2019-11-01 to 2019-11-30\n",
      "Time elapsed (hh:mm:ss.ms) 0:00:06.704908\n",
      "Currently retrieving data for johannesburg: from 2019-12-01 to 2019-12-02\n",
      "Time elapsed (hh:mm:ss.ms) 0:00:07.189356\n",
      "\n",
      "\n",
      "export johannesburg completed!\n",
      "\n",
      "\n",
      "\n",
      "\n",
      "Retrieving weather data for capetown\n",
      "\n",
      "\n",
      "Currently retrieving data for capetown: from 2019-08-20 to 2019-08-31\n",
      "Time elapsed (hh:mm:ss.ms) 0:00:01.399277\n",
      "Currently retrieving data for capetown: from 2019-09-01 to 2019-09-30\n",
      "Time elapsed (hh:mm:ss.ms) 0:00:04.388613\n",
      "Currently retrieving data for capetown: from 2019-10-01 to 2019-10-31\n",
      "Time elapsed (hh:mm:ss.ms) 0:00:05.965730\n",
      "Currently retrieving data for capetown: from 2019-11-01 to 2019-11-30\n",
      "Time elapsed (hh:mm:ss.ms) 0:00:07.533511\n",
      "Currently retrieving data for capetown: from 2019-12-01 to 2019-12-02\n",
      "Time elapsed (hh:mm:ss.ms) 0:00:08.062169\n",
      "\n",
      "\n",
      "export capetown completed!\n",
      "\n",
      "\n",
      "\n",
      "\n",
      "Retrieving weather data for durban\n",
      "\n",
      "\n",
      "Currently retrieving data for durban: from 2019-08-20 to 2019-08-31\n",
      "Time elapsed (hh:mm:ss.ms) 0:00:01.026635\n",
      "Currently retrieving data for durban: from 2019-09-01 to 2019-09-30\n",
      "Time elapsed (hh:mm:ss.ms) 0:00:02.620099\n",
      "Currently retrieving data for durban: from 2019-10-01 to 2019-10-31\n",
      "Time elapsed (hh:mm:ss.ms) 0:00:04.170390\n",
      "Currently retrieving data for durban: from 2019-11-01 to 2019-11-30\n",
      "Time elapsed (hh:mm:ss.ms) 0:00:05.686080\n",
      "Currently retrieving data for durban: from 2019-12-01 to 2019-12-02\n",
      "Time elapsed (hh:mm:ss.ms) 0:00:06.164826\n",
      "\n",
      "\n",
      "export durban completed!\n",
      "\n",
      "\n",
      "\n",
      "\n",
      "Retrieving weather data for pretoria\n",
      "\n",
      "\n",
      "Currently retrieving data for pretoria: from 2019-08-20 to 2019-08-31\n",
      "Time elapsed (hh:mm:ss.ms) 0:00:01.130802\n",
      "Currently retrieving data for pretoria: from 2019-09-01 to 2019-09-30\n",
      "Time elapsed (hh:mm:ss.ms) 0:00:02.839557\n",
      "Currently retrieving data for pretoria: from 2019-10-01 to 2019-10-31\n",
      "Time elapsed (hh:mm:ss.ms) 0:00:04.577265\n",
      "Currently retrieving data for pretoria: from 2019-11-01 to 2019-11-30\n",
      "Time elapsed (hh:mm:ss.ms) 0:00:06.103407\n",
      "Currently retrieving data for pretoria: from 2019-12-01 to 2019-12-02\n",
      "Time elapsed (hh:mm:ss.ms) 0:00:06.591243\n",
      "\n",
      "\n",
      "export pretoria completed!\n",
      "\n",
      "\n",
      "\n",
      "\n",
      "Retrieving weather data for Bloemfontein\n",
      "\n",
      "\n",
      "Currently retrieving data for Bloemfontein: from 2019-08-20 to 2019-08-31\n",
      "Time elapsed (hh:mm:ss.ms) 0:00:01.093908\n",
      "Currently retrieving data for Bloemfontein: from 2019-09-01 to 2019-09-30\n",
      "Time elapsed (hh:mm:ss.ms) 0:00:02.633994\n",
      "Currently retrieving data for Bloemfontein: from 2019-10-01 to 2019-10-31\n",
      "Time elapsed (hh:mm:ss.ms) 0:00:04.282965\n",
      "Currently retrieving data for Bloemfontein: from 2019-11-01 to 2019-11-30\n",
      "Time elapsed (hh:mm:ss.ms) 0:00:05.849769\n",
      "Currently retrieving data for Bloemfontein: from 2019-12-01 to 2019-12-02\n",
      "Time elapsed (hh:mm:ss.ms) 0:00:06.307991\n",
      "\n",
      "\n",
      "export Bloemfontein completed!\n",
      "\n",
      "\n"
     ]
    }
   ],
   "source": [
    "from wwo_hist import retrieve_hist_data\n",
    "import os\n",
    "\n",
    "# path\n",
    "os.chdir(\"../data\")\n",
    "\n",
    "frequency=3\n",
    "start_date = '20-AUG-2019'\n",
    "end_date = '02-DEC-2019'\n",
    "api_key = 'dcec2448554b4dfc94654810191012'\n",
    "location_list = ['johannesburg', 'capetown', 'durban', 'pretoria', 'Bloemfontein']\n",
    "\n",
    "hist_weather_data = retrieve_hist_data(api_key,\n",
    "                                location_list,\n",
    "                                start_date,\n",
    "                                end_date,\n",
    "                                frequency,\n",
    "                                location_label = False,\n",
    "                                export_csv = True,\n",
    "                                store_df = True)"
   ]
  },
  {
   "cell_type": "code",
   "execution_count": null,
   "metadata": {},
   "outputs": [],
   "source": []
  }
 ],
 "metadata": {
  "kernelspec": {
   "display_name": "Python 3",
   "language": "python",
   "name": "python3"
  },
  "language_info": {
   "codemirror_mode": {
    "name": "ipython",
    "version": 3
   },
   "file_extension": ".py",
   "mimetype": "text/x-python",
   "name": "python",
   "nbconvert_exporter": "python",
   "pygments_lexer": "ipython3",
   "version": "3.7.4"
  }
 },
 "nbformat": 4,
 "nbformat_minor": 2
}
