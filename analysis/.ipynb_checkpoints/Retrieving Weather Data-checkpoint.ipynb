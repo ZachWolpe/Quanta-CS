{
 "cells": [
  {
   "cell_type": "markdown",
   "metadata": {},
   "source": [
    "# Retrieving Weather Data\n",
    "\n",
    "Extracting weather data"
   ]
  },
  {
   "cell_type": "code",
   "execution_count": 8,
   "metadata": {},
   "outputs": [],
   "source": [
    "import numpy as np\n",
    "import pandas as pd\n",
    "import requests, json\n",
    "\n",
    "import matplotlib.pyplot as plt\n",
    "\n",
    "plt.style.use(\"seaborn-darkgrid\")"
   ]
  },
  {
   "cell_type": "markdown",
   "metadata": {},
   "source": [
    "# Live Requests\n",
    "\n",
    "Using OWM: Own Weather Map\n",
    "\n",
    "https://openweathermap.org/api"
   ]
  },
  {
   "cell_type": "code",
   "execution_count": 78,
   "metadata": {},
   "outputs": [
    {
     "name": "stdout",
     "output_type": "stream",
     "text": [
      "{'coord': {'lon': 28.05, 'lat': -26.21}, 'weather': [{'id': 803, 'main': 'Clouds', 'description': 'broken clouds', 'icon': '04d'}], 'base': 'stations', 'main': {'temp': 16.83, 'pressure': 1016, 'humidity': 82, 'temp_min': 16.11, 'temp_max': 18.33}, 'visibility': 10000, 'wind': {'speed': 4.1, 'deg': 60}, 'clouds': {'all': 75}, 'dt': 1575909523, 'sys': {'type': 1, 'id': 1935, 'country': 'ZA', 'sunrise': 1575860895, 'sunset': 1575910315}, 'timezone': 7200, 'id': 993800, 'name': 'Johannesburg', 'cod': 200}\n"
     ]
    }
   ],
   "source": [
    "import pyowm\n",
    "\n",
    "# connect to API\n",
    "owm = pyowm.OWM('f35708649203e754ee17c53629bc0baf')\n",
    "\n",
    "# get city\n",
    "city = 'Johannesburg' # 'Cape Town' # input(\"City Name:\")\n",
    "\n",
    "# API endpoint\n",
    "url = 'https://openweathermap.org/data/2.5/weather?q={}&appid=b6907d289e10d714a6e88b30761fae22'.format(city)\n",
    "\n",
    "# request\n",
    "res = requests.get(url)\n",
    "\n",
    "data = res.json() \n",
    "\n",
    "print(data)"
   ]
  },
  {
   "cell_type": "markdown",
   "metadata": {},
   "source": [
    "# Unix Time\n",
    "\n",
    "Convert date time to unix time.\n",
    "Often required for requests."
   ]
  },
  {
   "cell_type": "code",
   "execution_count": 9,
   "metadata": {},
   "outputs": [
    {
     "name": "stdout",
     "output_type": "stream",
     "text": [
      "Time Period in Unix time:\n",
      "2018-12-02 00:00:00\n",
      "2019-12-02 00:00:00\n"
     ]
    }
   ],
   "source": [
    "from datetime import datetime\n",
    "import time\n",
    "\n",
    "# get time in seconds\n",
    "# start time \n",
    "start = datetime(2018, 12, 2)\n",
    "# start = time.mktime(start.timetuple())\n",
    "\n",
    "# end time \n",
    "end = datetime(2019, 12, 2)\n",
    "# end = time.mktime(end.timetuple())\n",
    "\n",
    "print(\"Time Period in Unix time:\")\n",
    "print(start)\n",
    "print(end)"
   ]
  },
  {
   "cell_type": "markdown",
   "metadata": {},
   "source": [
    "# Historical Weather Data\n",
    "\n",
    "Download historical weather data for a given period + location"
   ]
  },
  {
   "cell_type": "code",
   "execution_count": 10,
   "metadata": {},
   "outputs": [
    {
     "ename": "FileNotFoundError",
     "evalue": "[Errno 2] No such file or directory: '../data/weather'",
     "output_type": "error",
     "traceback": [
      "\u001b[0;31m---------------------------------------------------------------------------\u001b[0m",
      "\u001b[0;31mFileNotFoundError\u001b[0m                         Traceback (most recent call last)",
      "\u001b[0;32m<ipython-input-10-47bb625539ed>\u001b[0m in \u001b[0;36m<module>\u001b[0;34m\u001b[0m\n\u001b[1;32m      3\u001b[0m \u001b[0;34m\u001b[0m\u001b[0m\n\u001b[1;32m      4\u001b[0m \u001b[0;31m# path\u001b[0m\u001b[0;34m\u001b[0m\u001b[0;34m\u001b[0m\u001b[0;34m\u001b[0m\u001b[0m\n\u001b[0;32m----> 5\u001b[0;31m \u001b[0mos\u001b[0m\u001b[0;34m.\u001b[0m\u001b[0mchdir\u001b[0m\u001b[0;34m(\u001b[0m\u001b[0;34m\"../data/weather\"\u001b[0m\u001b[0;34m)\u001b[0m\u001b[0;34m\u001b[0m\u001b[0;34m\u001b[0m\u001b[0m\n\u001b[0m\u001b[1;32m      6\u001b[0m \u001b[0;34m\u001b[0m\u001b[0m\n\u001b[1;32m      7\u001b[0m \u001b[0mfrequency\u001b[0m\u001b[0;34m=\u001b[0m\u001b[0;36m3\u001b[0m\u001b[0;34m\u001b[0m\u001b[0;34m\u001b[0m\u001b[0m\n",
      "\u001b[0;31mFileNotFoundError\u001b[0m: [Errno 2] No such file or directory: '../data/weather'"
     ]
    }
   ],
   "source": [
    "from wwo_hist import retrieve_hist_data\n",
    "import os\n",
    "\n",
    "# path\n",
    "os.chdir(\"../data/weather\")\n",
    "\n",
    "frequency=3\n",
    "start_date = '01-JAN-2000'\n",
    "end_date = '11-DEC-2019'\n",
    "api_key = 'dcec2448554b4dfc94654810191012'\n",
    "location_list = ['johannesburg'] #, 'capetown', 'durban', 'pretoria', 'bloemfontein']\n",
    "\n",
    "hist_weather_data = retrieve_hist_data(api_key,\n",
    "                                location_list,\n",
    "                                start_date,\n",
    "                                end_date,\n",
    "                                frequency,\n",
    "                                location_label = False,\n",
    "                                export_csv = True,\n",
    "                                store_df = True)"
   ]
  },
  {
   "cell_type": "code",
   "execution_count": null,
   "metadata": {},
   "outputs": [],
   "source": []
  }
 ],
 "metadata": {
  "kernelspec": {
   "display_name": "Python 3",
   "language": "python",
   "name": "python3"
  },
  "language_info": {
   "codemirror_mode": {
    "name": "ipython",
    "version": 3
   },
   "file_extension": ".py",
   "mimetype": "text/x-python",
   "name": "python",
   "nbconvert_exporter": "python",
   "pygments_lexer": "ipython3",
   "version": "3.7.4"
  }
 },
 "nbformat": 4,
 "nbformat_minor": 2
}
